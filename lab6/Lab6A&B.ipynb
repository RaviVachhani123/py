{
 "cells": [
  {
   "cell_type": "markdown",
   "id": "e928168d",
   "metadata": {},
   "source": [
    "# A programs\n",
    "#  1. WAP to find sum of all the elements in list."
   ]
  },
  {
   "cell_type": "code",
   "execution_count": null,
   "id": "829d6744",
   "metadata": {},
   "outputs": [
    {
     "name": "stdout",
     "output_type": "stream",
     "text": [
      "[2, 6, 4, 2, 3]\n",
      "17\n"
     ]
    }
   ],
   "source": [
    "\n",
    "n=int (input(\"enter your\"))\n",
    "list1 = []\n",
    "for i in range (n):\n",
    "    ip=int(input(\"enter your\"))\n",
    "    list1.append(ip)\n",
    "print(list1)\n",
    "    \n",
    "Sum=sum(list1)\n",
    "print(Sum)\n"
   ]
  },
  {
   "cell_type": "markdown",
   "id": "cfb5ce23",
   "metadata": {},
   "source": [
    "# 2. WAP to find the smallest and largest element in a list."
   ]
  },
  {
   "cell_type": "code",
   "execution_count": null,
   "id": "79b766f4",
   "metadata": {},
   "outputs": [
    {
     "name": "stdout",
     "output_type": "stream",
     "text": [
      "[1, 2, 5]\n",
      "1 5\n"
     ]
    }
   ],
   "source": [
    "n=int(input (\"enter your \"))\n",
    "list1=[]\n",
    "for i in range (n):\n",
    "    ip = int(input(\"enter your\"))\n",
    "    list1.append(ip)\n",
    "print(list1)\n",
    "\n",
    "min=min(list1)\n",
    "max=max(list1)\n",
    "print(min,max)\n",
    "             "
   ]
  },
  {
   "cell_type": "markdown",
   "id": "0412f4c6",
   "metadata": {},
   "source": [
    "# 3. WAP to take a list of any six product names split the list into two and append the first part to the end of the list."
   ]
  },
  {
   "cell_type": "code",
   "execution_count": null,
   "id": "f692f811",
   "metadata": {},
   "outputs": [
    {
     "name": "stdout",
     "output_type": "stream",
     "text": [
      "[1, 2, 3, 4, 5, 6]\n",
      "[4, 5, 6, 1, 2, 3]\n"
     ]
    }
   ],
   "source": [
    "n=int(input (\"enter your \"))\n",
    "list1=[]\n",
    "for i in range (n):\n",
    "    ip = int(input(\"enter your\"))\n",
    "    list1.append(ip)\n",
    "print(list1)\n",
    "\n",
    "a=list1[:3]\n",
    "b=list1[3:]\n",
    "b.extend(a)\n",
    "print(b)"
   ]
  },
  {
   "cell_type": "markdown",
   "id": "bd92e871",
   "metadata": {},
   "source": [
    "# 4. WAP to interchange first and last elements in list entered by a user."
   ]
  },
  {
   "cell_type": "code",
   "execution_count": null,
   "id": "63aaa5fe",
   "metadata": {},
   "outputs": [
    {
     "name": "stdout",
     "output_type": "stream",
     "text": [
      "[1, 2, 3, 4, 5]\n",
      "[5, 2, 3, 4, 1]\n"
     ]
    }
   ],
   "source": [
    "n=int(input(\"enter\"))\n",
    "list1=[]\n",
    "for i in range (n):\n",
    "    ip=int(input(\"enter\"))\n",
    "    list1.append(ip)\n",
    "print(list1)\n",
    "\n",
    "\n",
    "temp =list1[0]\n",
    "list1[0],list1[n - 1] = list1[n - 1],temp\n",
    "\n",
    "print(list1)\n"
   ]
  },
  {
   "cell_type": "markdown",
   "id": "38e6b605",
   "metadata": {},
   "source": [
    "# 5. WAP to interchange the list elements on two positions entered by a user from a list."
   ]
  },
  {
   "cell_type": "code",
   "execution_count": null,
   "id": "340c079c",
   "metadata": {},
   "outputs": [
    {
     "name": "stdout",
     "output_type": "stream",
     "text": [
      "[1, 2, 3]\n",
      "[1, 3, 2]\n"
     ]
    }
   ],
   "source": [
    "n=int(input(\"enter\"))\n",
    "list1=[]\n",
    "for i in range (n):\n",
    "    ip=int(input(\"enter\"))\n",
    "    list1.append(ip)\n",
    "print(list1)\n",
    "\n",
    "a=int(input(\"enter\"))\n",
    "b=int(input(\"enter\"))\n",
    "temp =list1[a]\n",
    "list1[a] = list1[b]\n",
    "list1[b] = temp\n",
    "\n",
    "print(list1)\n"
   ]
  },
  {
   "cell_type": "markdown",
   "id": "f69eb92e",
   "metadata": {},
   "source": [
    "# 6. WAP to reverses the list entered by user."
   ]
  },
  {
   "cell_type": "code",
   "execution_count": null,
   "id": "9033bb24",
   "metadata": {},
   "outputs": [
    {
     "name": "stdout",
     "output_type": "stream",
     "text": [
      "[1, 2, 3, 4, 5]\n",
      "[5, 4, 3, 2, 1]\n"
     ]
    }
   ],
   "source": [
    "n=int(input(\"enter\"))\n",
    "list1=[]\n",
    "l1=[]\n",
    "for i in range (n):\n",
    "    ip=int(input(\"enter\"))\n",
    "    list1.append(ip)\n",
    "print(list1)\n",
    "\n",
    "\n",
    "for i in range (n):\n",
    "    a=list1.pop()\n",
    "    l1.append(a)    \n",
    "\n",
    "print(l1)"
   ]
  },
  {
   "cell_type": "markdown",
   "id": "e23fc84a",
   "metadata": {},
   "source": [
    "# 7. WAP to print all even number in list entered by user."
   ]
  },
  {
   "cell_type": "code",
   "execution_count": null,
   "id": "6fa61ea9",
   "metadata": {},
   "outputs": [
    {
     "name": "stdout",
     "output_type": "stream",
     "text": [
      "[4, 2, 6, 8, 4, 2]\n",
      "4\n",
      "2\n",
      "6\n",
      "8\n",
      "4\n",
      "2\n"
     ]
    }
   ],
   "source": [
    "n=int(input(\"enter\"))\n",
    "list1=[]\n",
    "for i in range (n):\n",
    "    ip=int(input(\"enter\"))\n",
    "    list1.append(ip)\n",
    "print(list1)\n",
    "\n",
    "for i in range (len(list1)):\n",
    "    if(list1[i]%2==0):\n",
    "        print(list1[i])\n",
    "\n"
   ]
  },
  {
   "cell_type": "markdown",
   "id": "684a89d1",
   "metadata": {},
   "source": [
    "# 8. WAP to print all odd number in list entered by user."
   ]
  },
  {
   "cell_type": "code",
   "execution_count": null,
   "id": "39c21782",
   "metadata": {},
   "outputs": [
    {
     "name": "stdout",
     "output_type": "stream",
     "text": [
      "[1, 2, 3, 4, 5]\n",
      "1\n",
      "3\n",
      "5\n"
     ]
    }
   ],
   "source": [
    "n=int(input(\"enter\"))\n",
    "list1=[]\n",
    "for i in range (n):\n",
    "    ip=int(input(\"enter\"))\n",
    "    list1.append(ip)\n",
    "print(list1)\n",
    "\n",
    "for i in range (len(list1)):\n",
    "    if(list1[i]%2==1):\n",
    "        print(list1[i])"
   ]
  },
  {
   "cell_type": "markdown",
   "id": "58dd980c",
   "metadata": {},
   "source": [
    "# 9. WAP to search an element in a list as entered by user."
   ]
  },
  {
   "cell_type": "code",
   "execution_count": null,
   "id": "764e2b3c",
   "metadata": {},
   "outputs": [
    {
     "name": "stdout",
     "output_type": "stream",
     "text": [
      "[1, 2, 3]\n",
      "not found\n"
     ]
    }
   ],
   "source": [
    "n=int(input(\"enter\"))\n",
    "list1=[]\n",
    "for i in range (n):\n",
    "    ip=int(input(\"enter\"))\n",
    "    list1.append(ip)\n",
    "print(list1)\n",
    "\n",
    "\n",
    "v=int(input(\"enter\"))\n",
    "\n",
    "for i in range (n):\n",
    "    if(v==list1[i]):\n",
    "        print(i)\n",
    "if(v!=list1[i]):\n",
    "    print(\"not found\")"
   ]
  },
  {
   "cell_type": "markdown",
   "id": "6254c6df",
   "metadata": {},
   "source": [
    "# 10. WAP to sort a list in ascending or descending order as per user’s choice."
   ]
  },
  {
   "cell_type": "code",
   "execution_count": null,
   "id": "b991bb2d",
   "metadata": {},
   "outputs": [
    {
     "name": "stdout",
     "output_type": "stream",
     "text": [
      "[1, 3, 2]\n",
      "[1, 2, 3]\n"
     ]
    }
   ],
   "source": [
    "n=int(input(\"enter\"))\n",
    "list1=[]\n",
    "for i in range (n):\n",
    "    ip=int(input(\"enter\"))\n",
    "    list1.append(ip)\n",
    "print(list1)\n",
    "num=int(input(\"enter 1 for ascending or 2 for descending\"))\n",
    "if(num==1):\n",
    "    for i in range(n):\n",
    "        for j in range(n):\n",
    "            if(list1[j]> list1[i]):\n",
    "                temp=list1[i]\n",
    "                list1[i]=list1[j]\n",
    "                list1[j]=temp\n",
    "    print(list1)\n",
    "elif(num==2):\n",
    "    for i in range(n):\n",
    "        for j in range(n):\n",
    "            if(list1[i]> list1[j]):\n",
    "                temp=list1[i]\n",
    "                list1[i]=list1[j]\n",
    "                list1[j]=temp\n",
    "    print(list1)\n",
    "else:\n",
    "    print(\"invalid number\")\n",
    "\n",
    "\n"
   ]
  },
  {
   "cell_type": "markdown",
   "id": "c6105056",
   "metadata": {},
   "source": [
    "# 11. WAP program to convert a list of characters entered by user into a string."
   ]
  },
  {
   "cell_type": "code",
   "execution_count": 47,
   "id": "0bbb7329",
   "metadata": {},
   "outputs": [
    {
     "name": "stdout",
     "output_type": "stream",
     "text": [
      "['a', '1', '2', 'a', 's']\n",
      "a 1 2 a s\n"
     ]
    }
   ],
   "source": [
    "n=int(input(\"enter\"))\n",
    "list1=[]\n",
    "for i in range (n):\n",
    "    ip=input(\"enter\")\n",
    "    list1.append(ip)\n",
    "print(list1)\n",
    "\n",
    "print(\" \".join(list1))\n"
   ]
  },
  {
   "cell_type": "markdown",
   "id": "8ba7f878",
   "metadata": {},
   "source": [
    "# 12. WAP to enter name, quantity and price of 5 products by a user. Generate and print all the details with the Product’s total amount in formatted manner."
   ]
  },
  {
   "cell_type": "code",
   "execution_count": 32,
   "id": "a3823baa",
   "metadata": {},
   "outputs": [
    {
     "name": "stdout",
     "output_type": "stream",
     "text": [
      "ravi_5_1\n",
      "raj_5_1\n",
      "rumit_5_1\n",
      "rahul_5_1\n",
      "rohit_5_1\n",
      "total 25\n"
     ]
    }
   ],
   "source": [
    "n=5\n",
    "name=[]\n",
    "for i in range (n):\n",
    "    ip=input(\"enter\")\n",
    "    name.append(ip)\n",
    "\n",
    "n1=5\n",
    "quantity=[]\n",
    "for i in range (n1):\n",
    "    ip=int(input(\"enter\"))\n",
    "    quantity.append(ip)\n",
    "\n",
    "n2=5\n",
    "price=[]\n",
    "for i in range (n2):\n",
    "    ip=int(input(\"enter\"))\n",
    "    price.append(ip)\n",
    "\n",
    "\n",
    "total=0\n",
    "for i in range (5):\n",
    "    print(name[i] , str(quantity[i]) , str(price[i]), sep=\"_\" )\n",
    "    total+=quantity[i]*price[i]\n",
    "print('total',total)"
   ]
  },
  {
   "cell_type": "markdown",
   "id": "d6437fec",
   "metadata": {},
   "source": [
    "# B programs\n",
    "# 1. WAP to count even and odd numbers in a List."
   ]
  },
  {
   "cell_type": "code",
   "execution_count": 35,
   "id": "a1f1b31e",
   "metadata": {},
   "outputs": [
    {
     "name": "stdout",
     "output_type": "stream",
     "text": [
      "[1, 2, 3]\n",
      "even 1 odd 2\n"
     ]
    }
   ],
   "source": [
    "n=int(input(\"enter\"))\n",
    "list1=[]\n",
    "for i in range (n):\n",
    "    ip=int(input(\"enter\"))\n",
    "    list1.append(ip)\n",
    "print(list1)\n",
    "even=0\n",
    "odd=0\n",
    "for i in range (len(list1)):\n",
    "    if(list1[i]%2==0):\n",
    "        even+=1\n",
    "    else:\n",
    "        odd+=1\n",
    "print('even',even,'odd',odd)  \n"
   ]
  },
  {
   "cell_type": "markdown",
   "id": "1a552c04",
   "metadata": {},
   "source": [
    "# 2. WAP to remove multiple elements from a list in Python as per value entered by user."
   ]
  },
  {
   "cell_type": "code",
   "execution_count": 56,
   "id": "997f66e2",
   "metadata": {},
   "outputs": [
    {
     "ename": "IndentationError",
     "evalue": "expected an indented block after 'if' statement on line 12 (2847168270.py, line 13)",
     "output_type": "error",
     "traceback": [
      "\u001b[1;36m  Cell \u001b[1;32mIn[56], line 13\u001b[1;36m\u001b[0m\n\u001b[1;33m    list1.remove(list1[i])\u001b[0m\n\u001b[1;37m    ^\u001b[0m\n\u001b[1;31mIndentationError\u001b[0m\u001b[1;31m:\u001b[0m expected an indented block after 'if' statement on line 12\n"
     ]
    }
   ],
   "source": [
    "n=int(input(\"enter\"))\n",
    "list1=[]\n",
    "for i in range (n):\n",
    "    ip=int(input(\"enter\"))\n",
    "    list1.append(ip)\n",
    "print(list1)\n",
    "\n",
    "\n",
    "\n",
    "for i in range (len(list1)):\n",
    "    t=int(input(\"enter\"))\n",
    "    if(list[i]==t):\n",
    "    list1.remove(list1[i])\n",
    "print(list1)\n",
    "\n",
    "\n",
    "\n",
    "\n"
   ]
  },
  {
   "cell_type": "markdown",
   "id": "eca45fc0",
   "metadata": {},
   "source": [
    "# 3. WAP to print duplicates from a list of integers."
   ]
  },
  {
   "cell_type": "code",
   "execution_count": null,
   "id": "a1882159",
   "metadata": {},
   "outputs": [],
   "source": []
  },
  {
   "cell_type": "markdown",
   "id": "ca8f5472",
   "metadata": {},
   "source": [
    "# 4. WAP to count the number of strings where the string length is 2 or more and the first and last character are same from a given list of strings."
   ]
  },
  {
   "cell_type": "code",
   "execution_count": null,
   "id": "48f99a80",
   "metadata": {},
   "outputs": [],
   "source": []
  },
  {
   "cell_type": "markdown",
   "id": "fe32afc5",
   "metadata": {},
   "source": [
    "# 5. WAP to check whether a list contains a sub-list and generate all sub-lists of a list."
   ]
  },
  {
   "cell_type": "code",
   "execution_count": 51,
   "id": "8cac8349",
   "metadata": {},
   "outputs": [
    {
     "name": "stdout",
     "output_type": "stream",
     "text": [
      "All possible contiguous sublists of [1, 2, 3, 4, 5] are:\n",
      "[1]\n",
      "[1, 2]\n",
      "[1, 2, 3]\n",
      "[1, 2, 3, 4]\n",
      "[1, 2, 3, 4, 5]\n",
      "[2]\n",
      "[2, 3]\n",
      "[2, 3, 4]\n",
      "[2, 3, 4, 5]\n",
      "[3]\n",
      "[3, 4]\n",
      "[3, 4, 5]\n",
      "[4]\n",
      "[4, 5]\n",
      "[5]\n"
     ]
    }
   ],
   "source": [
    "def generate_sublists(lst):\n",
    "    sublists = []\n",
    "    n = len(lst)\n",
    "    for i in range(n):\n",
    "        for j in range(i + 1, n + 1):\n",
    "            sublists.append(lst[i:j])\n",
    "    return sublists\n",
    "\n",
    "# Example usage:\n",
    "my_list = [1, 2, 3, 4, 5]\n",
    "all_sublists = generate_sublists(my_list)\n",
    "print(\"All possible contiguous sublists of\", my_list, \"are:\")\n",
    "for sublist in all_sublists:\n",
    "    print(sublist)\n"
   ]
  }
 ],
 "metadata": {
  "kernelspec": {
   "display_name": "Python 3 (ipykernel)",
   "language": "python",
   "name": "python3"
  },
  "language_info": {
   "codemirror_mode": {
    "name": "ipython",
    "version": 3
   },
   "file_extension": ".py",
   "mimetype": "text/x-python",
   "name": "python",
   "nbconvert_exporter": "python",
   "pygments_lexer": "ipython3",
   "version": "3.12.0"
  }
 },
 "nbformat": 4,
 "nbformat_minor": 5
}
