{
 "cells": [
  {
   "cell_type": "markdown",
   "id": "b82d8580",
   "metadata": {},
   "source": [
    "___\n",
    "<a href='https://www.darshan.ac.in/'><center> <img width=20% height=20% src='https://www.darshan.ac.in/Content/media/DU_Logo.svg'/></center></a>\n",
    "<pre>\n",
    "<center><b>Python</b></center>\n",
    "<center><b>Lab - 5(LOOP)</b></center>    \n",
    "</pre>\n",
    "____"
   ]
  },
  {
   "cell_type": "markdown",
   "id": "cd356d2e",
   "metadata": {},
   "source": [
    "<pre>\n",
    "<h3> <p style=\"color:red\"> USING WHILE LOOP</p> </h3>\n",
    "</pre>"
   ]
  },
  {
   "cell_type": "markdown",
   "id": "08782d2f",
   "metadata": {},
   "source": [
    "## 1) WAP to print 1 to n"
   ]
  },
  {
   "cell_type": "code",
   "execution_count": 3,
   "id": "a779ec4c",
   "metadata": {},
   "outputs": [
    {
     "name": "stdout",
     "output_type": "stream",
     "text": [
      "1\n",
      "2\n",
      "3\n",
      "4\n",
      "5\n"
     ]
    }
   ],
   "source": [
    "n=int (input(\"enter your\"))\n",
    "i=1\n",
    "while (i <=n):\n",
    "    print(i)\n",
    "    i+=1\n"
   ]
  },
  {
   "cell_type": "markdown",
   "id": "f6f64e52",
   "metadata": {},
   "source": [
    "## 2)WAP to print odd numbers between given two numbers."
   ]
  },
  {
   "cell_type": "code",
   "execution_count": 2,
   "id": "b1afec05",
   "metadata": {},
   "outputs": [
    {
     "name": "stdout",
     "output_type": "stream",
     "text": [
      "5\n",
      "7\n",
      "9\n"
     ]
    }
   ],
   "source": [
    "n =int (input(\"enter your\"))\n",
    "n1=int (input(\"enter your\"))\n",
    "i=n\n",
    "while (i <=n1):\n",
    "    if(i%2==1):\n",
    "         print(i)\n",
    "    i+=1"
   ]
  },
  {
   "cell_type": "markdown",
   "id": "c371b88b",
   "metadata": {},
   "source": [
    " ## 3) WAP to print n number of sum"
   ]
  },
  {
   "cell_type": "code",
   "execution_count": 7,
   "id": "7ad02419",
   "metadata": {},
   "outputs": [
    {
     "name": "stdout",
     "output_type": "stream",
     "text": [
      "15\n"
     ]
    }
   ],
   "source": [
    "n=int (input(\"enter your\"))\n",
    "i=1\n",
    "sum=0\n",
    "while (i <=n):\n",
    "    sum+=i\n",
    "    i+=1\n",
    "print(sum)"
   ]
  },
  {
   "cell_type": "markdown",
   "id": "113e4ad1",
   "metadata": {},
   "source": [
    "## 4) WAP to print sum of digits of given number."
   ]
  },
  {
   "cell_type": "code",
   "execution_count": 8,
   "id": "d025abb2",
   "metadata": {},
   "outputs": [
    {
     "name": "stdout",
     "output_type": "stream",
     "text": [
      "6\n"
     ]
    }
   ],
   "source": [
    "n=int (input(\"enter your\"))\n",
    "sum=0\n",
    "while n!=0:\n",
    "    sum+=n%10\n",
    "    n=n//10\n",
    "print(sum)\n"
   ]
  },
  {
   "cell_type": "markdown",
   "id": "7a17299a",
   "metadata": {},
   "source": [
    "## 5)  WAP to find whether the given number is prime or not."
   ]
  },
  {
   "cell_type": "code",
   "execution_count": 27,
   "id": "a7ba0f41",
   "metadata": {},
   "outputs": [
    {
     "name": "stdout",
     "output_type": "stream",
     "text": [
      "not prime\n"
     ]
    }
   ],
   "source": [
    "n=int (input(\"enter your\"))\n",
    "i=2\n",
    "flag=0\n",
    "while i<=n//2:\n",
    "    if(n%i==0):\n",
    "        flag+=1\n",
    "    i+=1\n",
    "if(flag==0):\n",
    "    print(\"prime\")\n",
    "else:\n",
    "    print(\"not prime\")"
   ]
  },
  {
   "cell_type": "markdown",
   "id": "babe992c",
   "metadata": {},
   "source": [
    "<pre>\n",
    "<h3><p style=\"color:red\"> USING FOR LOOP </p> </h3>\n",
    "</pre>"
   ]
  },
  {
   "cell_type": "markdown",
   "id": "a8a0a131",
   "metadata": {},
   "source": [
    "## 7) WAP to print sum of series 1–2+3–4+5–6+7...n"
   ]
  },
  {
   "cell_type": "code",
   "execution_count": 72,
   "id": "72de6a9c",
   "metadata": {},
   "outputs": [
    {
     "name": "stdout",
     "output_type": "stream",
     "text": [
      "-5\n"
     ]
    }
   ],
   "source": [
    "n=(int (input(\"enter your\")))\n",
    "sum=0\n",
    "for i in range(1,n+1):\n",
    "    if(i%2==1):\n",
    "        sum+=i\n",
    "    else:\n",
    "        sum-=i\n",
    "print(sum)"
   ]
  },
  {
   "cell_type": "markdown",
   "id": "b503d505",
   "metadata": {},
   "source": [
    "## 8) WAP to print multiplication table of given number.(using for loop)"
   ]
  },
  {
   "cell_type": "code",
   "execution_count": 58,
   "id": "bf430fbf",
   "metadata": {},
   "outputs": [
    {
     "name": "stdout",
     "output_type": "stream",
     "text": [
      "5 * 1 = 5\n",
      "5 * 2 = 10\n",
      "5 * 3 = 15\n",
      "5 * 4 = 20\n",
      "5 * 5 = 25\n",
      "5 * 6 = 30\n",
      "5 * 7 = 35\n",
      "5 * 8 = 40\n",
      "5 * 9 = 45\n",
      "5 * 10 = 50\n"
     ]
    }
   ],
   "source": [
    "n=int (input(\"enter your\"))\n",
    "i=1\n",
    "for i in range (1,11):\n",
    "    print ( n, \"*\",i, \"=\", i*n)\n",
    "    "
   ]
  },
  {
   "cell_type": "markdown",
   "id": "a3ffbd15",
   "metadata": {},
   "source": [
    "## 9) WAP to find factorial of the given number."
   ]
  },
  {
   "cell_type": "code",
   "execution_count": 81,
   "id": "537ac3e2",
   "metadata": {},
   "outputs": [
    {
     "name": "stdout",
     "output_type": "stream",
     "text": [
      "120\n"
     ]
    }
   ],
   "source": [
    "n=int(input(\"enter your\"))\n",
    "fact=1\n",
    "for i in range (1,n+1):\n",
    "    fact*=i\n",
    "print(fact)"
   ]
  },
  {
   "cell_type": "markdown",
   "id": "4ebd2c8a",
   "metadata": {},
   "source": [
    "## 10) WAP to find out prime numbers between given two numbers."
   ]
  },
  {
   "cell_type": "code",
   "execution_count": 99,
   "id": "c4f8a0c1",
   "metadata": {},
   "outputs": [
    {
     "name": "stdout",
     "output_type": "stream",
     "text": [
      "1\n",
      "2\n",
      "3\n",
      "4\n",
      "5\n",
      "7\n",
      "11\n",
      "13\n",
      "17\n",
      "19\n"
     ]
    }
   ],
   "source": [
    "n=int (input(\"enter your\"))\n",
    "n1=int (input(\"enter your\"))\n",
    "flag=0\n",
    "while (n<=n1):\n",
    "    flag=0\n",
    "    for i in range (2,n//2):\n",
    "        if(n%i==0):\n",
    "          flag+=1\n",
    "\n",
    "    if(flag==0):\n",
    "        print(n)\n",
    "    n+=1"
   ]
  },
  {
   "cell_type": "markdown",
   "id": "7bd9cdd2",
   "metadata": {},
   "source": [
    "<h3><p style=\"color:red\">EXTRA</p></h3>"
   ]
  },
  {
   "cell_type": "markdown",
   "id": "93cb8a5d",
   "metadata": {},
   "source": [
    "## 1) WAP to Find largest prime factor of given number.\n"
   ]
  },
  {
   "cell_type": "code",
   "execution_count": null,
   "id": "385b9715",
   "metadata": {},
   "outputs": [],
   "source": []
  },
  {
   "cell_type": "markdown",
   "id": "2e2c93ce",
   "metadata": {},
   "source": [
    "## 2) WAP to print Fibonacci series up to number given by user."
   ]
  },
  {
   "cell_type": "code",
   "execution_count": null,
   "id": "19ae8538",
   "metadata": {},
   "outputs": [],
   "source": []
  },
  {
   "cell_type": "markdown",
   "id": "1a9888e1",
   "metadata": {},
   "source": [
    "\n",
    "## 3) WAP to print all the number which are divisible by 11 but not divisible by 2 betweengiven two numbers."
   ]
  },
  {
   "cell_type": "code",
   "execution_count": 2,
   "id": "c11adc46",
   "metadata": {},
   "outputs": [
    {
     "name": "stdout",
     "output_type": "stream",
     "text": [
      "33\n",
      "55\n"
     ]
    }
   ],
   "source": [
    "a=int(input(\"enter a\"))\n",
    "b=int(input(\"enter b\"))\n",
    "for i in range (a,b+1):\n",
    "    if i%11==0 and i%2!=0:\n",
    "        print(i)"
   ]
  }
 ],
 "metadata": {
  "kernelspec": {
   "display_name": "Python 3 (ipykernel)",
   "language": "python",
   "name": "python3"
  },
  "language_info": {
   "codemirror_mode": {
    "name": "ipython",
    "version": 3
   },
   "file_extension": ".py",
   "mimetype": "text/x-python",
   "name": "python",
   "nbconvert_exporter": "python",
   "pygments_lexer": "ipython3",
   "version": "3.12.0"
  }
 },
 "nbformat": 4,
 "nbformat_minor": 5
}
