{
 "cells": [
  {
   "cell_type": "markdown",
   "id": "672cef4a",
   "metadata": {},
   "source": [
    "___\n",
    "<a href='https://www.darshan.ac.in/'><center> <img width=20% height=20% src='https://www.darshan.ac.in/Content/media/DU_Logo.svg'/></center></a>\n",
    "<pre>\n",
    "<center><b>Python</b></center>\n",
    "<center><b>Lab - 4(String)</b></center>    \n",
    "</pre>\n",
    "____"
   ]
  },
  {
   "cell_type": "markdown",
   "id": "26152a63",
   "metadata": {},
   "source": [
    "## 01) WAP to check given string is palindrome or not.\n"
   ]
  },
  {
   "cell_type": "code",
   "execution_count": 1,
   "id": "2eddb2af",
   "metadata": {},
   "outputs": [
    {
     "name": "stdout",
     "output_type": "stream",
     "text": [
      "palindrome\n"
     ]
    }
   ],
   "source": [
    "a=input(\"enter your\")\n",
    "if a==a[::-1]:\n",
    "    print(\"palindrome\")\n",
    "else:\n",
    "    print(\"not palindrome\")\n"
   ]
  },
  {
   "cell_type": "markdown",
   "id": "27b73f24",
   "metadata": {},
   "source": [
    "## 02) WAP to reverse the word in given string.\n"
   ]
  },
  {
   "cell_type": "code",
   "execution_count": 12,
   "id": "15d61738",
   "metadata": {},
   "outputs": [
    {
     "name": "stdout",
     "output_type": "stream",
     "text": [
      "sd dc\n"
     ]
    }
   ],
   "source": [
    "a=input(\"enter your\")\n",
    "x=a.split()\n",
    "n=x[::-1]\n",
    "print(\" \".join(n))"
   ]
  },
  {
   "cell_type": "markdown",
   "id": "6ccfbb86",
   "metadata": {},
   "source": [
    "## 03) WAP to remove ith character from given string."
   ]
  },
  {
   "cell_type": "code",
   "execution_count": 18,
   "id": "02619f39",
   "metadata": {},
   "outputs": [
    {
     "name": "stdout",
     "output_type": "stream",
     "text": [
      "sss d\n"
     ]
    }
   ],
   "source": [
    "a=input(\"enter your\")\n",
    "b=int(input(\"enter string\"))\n",
    "print(a[0:b],a[b+1:len(a)])"
   ]
  },
  {
   "cell_type": "markdown",
   "id": "2eeb59f5",
   "metadata": {},
   "source": [
    "## 04) WAP to print even length word in string"
   ]
  },
  {
   "cell_type": "code",
   "execution_count": 7,
   "id": "d3168c2a",
   "metadata": {},
   "outputs": [
    {
     "name": "stdout",
     "output_type": "stream",
     "text": [
      "ecve\n",
      "er\n"
     ]
    }
   ],
   "source": [
    "n=input(\"enter string\")\n",
    "a=n.split()\n",
    "for i in a:\n",
    "    if(len(i)%2==0):\n",
    "        print(i)"
   ]
  },
  {
   "cell_type": "markdown",
   "id": "18c8db8a",
   "metadata": {},
   "source": [
    "## 05) WAP to find length of String without using len function."
   ]
  },
  {
   "cell_type": "code",
   "execution_count": 6,
   "id": "0c2e1ee2",
   "metadata": {},
   "outputs": [
    {
     "name": "stdout",
     "output_type": "stream",
     "text": [
      "3\n"
     ]
    }
   ],
   "source": [
    "n=input(\"enter your\")\n",
    "counter=0\n",
    "while n:\n",
    "    counter +=1\n",
    "    n=n[1:]\n",
    "print(counter)"
   ]
  },
  {
   "cell_type": "markdown",
   "id": "5cf1badf",
   "metadata": {},
   "source": [
    "## 06) WAP to count numbers of vowels in given string."
   ]
  },
  {
   "cell_type": "code",
   "execution_count": 11,
   "id": "6106e32b",
   "metadata": {},
   "outputs": [
    {
     "name": "stdout",
     "output_type": "stream",
     "text": [
      "1\n"
     ]
    }
   ],
   "source": [
    "n=input(\"enter your\")\n",
    "n=n.lower()\n",
    "print(n.count('a')+ n.count('e')+ n.count('i')+ n.count('o')+ n.count('u'))       "
   ]
  },
  {
   "cell_type": "markdown",
   "id": "cfe4d479",
   "metadata": {},
   "source": [
    "## 07) WAP to do String slicing\n",
    "\n",
    " a)\tLeft (Or anticlockwise) rotate the given string by d elements (where d <= n).\n",
    " \n",
    " \n",
    " b)\tRight (Or clockwise) rotate the given string by d elements (where d <= n).\n",
    "\n",
    " "
   ]
  },
  {
   "cell_type": "code",
   "execution_count": 12,
   "id": "963ca4d5",
   "metadata": {},
   "outputs": [
    {
     "name": "stdout",
     "output_type": "stream",
     "text": [
      "shandar\n",
      "handars\n"
     ]
    }
   ],
   "source": [
    "n=input(\"enter your\")\n",
    "i=int(input(\"enter your\"))\n",
    "l=n[-i:]+n[:-i]\n",
    "r=n[i:]+n[:i]\n",
    "print(r)\n",
    "print(l)"
   ]
  },
  {
   "cell_type": "markdown",
   "id": "4b2e628b",
   "metadata": {},
   "source": [
    "## 08) WAP to count of o in this string. “RCqIoMkolU”   "
   ]
  },
  {
   "cell_type": "code",
   "execution_count": 8,
   "id": "aa3cc887",
   "metadata": {},
   "outputs": [
    {
     "name": "stdout",
     "output_type": "stream",
     "text": [
      "2\n"
     ]
    }
   ],
   "source": [
    "n=input(\"enter your\")\n",
    "n=n.lower()\n",
    "print(n.count('o'))  "
   ]
  },
  {
   "cell_type": "markdown",
   "id": "901c53cf",
   "metadata": {},
   "source": [
    "<pre>\n",
    "<h3><p style=\"color:red\">EXTRA</p> </h3>\n",
    "</pre>"
   ]
  },
  {
   "cell_type": "markdown",
   "id": "6666227d",
   "metadata": {},
   "source": [
    "## 01) WAP which accepts a string as input to print \"Yes\" if the string is \"yes\" or \"YES\" or \"Yes\", otherwise print \"No\"."
   ]
  },
  {
   "cell_type": "code",
   "execution_count": 13,
   "id": "623fddb4",
   "metadata": {},
   "outputs": [
    {
     "name": "stdout",
     "output_type": "stream",
     "text": [
      "yes\n"
     ]
    }
   ],
   "source": [
    "n=input(\"enter your\")\n",
    "if n.isupper() or n.istitle() or n.islower():\n",
    "    print(\"yes\")\n",
    "else:\n",
    "    print(\"no\")"
   ]
  },
  {
   "cell_type": "markdown",
   "id": "f51659a2",
   "metadata": {},
   "source": [
    "## 02) WAP to find all duplicate characters in string."
   ]
  },
  {
   "cell_type": "code",
   "execution_count": 4,
   "id": "d30705ae",
   "metadata": {},
   "outputs": [
    {
     "data": {
      "text/plain": [
       "[1, 2, 5, 4, 6, 8, 7, 3, 45, 89, 544, 0]"
      ]
     },
     "execution_count": 4,
     "metadata": {},
     "output_type": "execute_result"
    }
   ],
   "source": [
    "list1 = [1,1,1,1,1,1,2,2,2,2,2,2,5,5,5,5,5,5,4,5,6,8,7,4,1,2,3,6,45,5,6,4,8,6,3,5,5,89,2,544,5,6,0]\n",
    "i=0\n",
    "while(i<len(list1)):\n",
    "    j=i+1\n",
    "    while(j<len(list1)):\n",
    "        #print(\"Pass = \",i,\"and J = \",j)\n",
    "        if(list1[i]== list1[j]):\n",
    "            k=j\n",
    "            while(k<len(list1)-1):\n",
    "                #print(j,k)\n",
    "                list1[k]=list1[k+1]\n",
    "                k+=1\n",
    "            j-=1\n",
    "            list1.pop()\n",
    "        j=j+1\n",
    "    i+=1\n",
    "list1"
   ]
  }
 ],
 "metadata": {
  "kernelspec": {
   "display_name": "Python 3 (ipykernel)",
   "language": "python",
   "name": "python3"
  },
  "language_info": {
   "codemirror_mode": {
    "name": "ipython",
    "version": 3
   },
   "file_extension": ".py",
   "mimetype": "text/x-python",
   "name": "python",
   "nbconvert_exporter": "python",
   "pygments_lexer": "ipython3",
   "version": "3.12.0"
  }
 },
 "nbformat": 4,
 "nbformat_minor": 5
}
