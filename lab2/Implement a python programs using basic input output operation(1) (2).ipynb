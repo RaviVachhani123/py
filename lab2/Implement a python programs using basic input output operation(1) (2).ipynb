{
 "cells": [
  {
   "cell_type": "markdown",
   "id": "89fa556a",
   "metadata": {},
   "source": [
    "Write a python program to print “Hello Students”."
   ]
  },
  {
   "cell_type": "code",
   "execution_count": 5,
   "id": "fe20d88c",
   "metadata": {},
   "outputs": [
    {
     "name": "stdout",
     "output_type": "stream",
     "text": [
      "Hello Student\n"
     ]
    }
   ],
   "source": [
    "print(\"Hello Student\")"
   ]
  },
  {
   "cell_type": "markdown",
   "id": "e713e4c1",
   "metadata": {},
   "source": [
    "Write a program to print your address i) using single print ii) using multiple print."
   ]
  },
  {
   "cell_type": "code",
   "execution_count": 2,
   "id": "f1a2ba16",
   "metadata": {},
   "outputs": [
    {
     "name": "stdout",
     "output_type": "stream",
     "text": [
      "A 69,\n",
      "alap green city,\n",
      "raiya road,\n",
      "rajkot\n",
      "\n",
      "\n",
      "A 69,\n",
      "alap green city,\n",
      "raiya road,\n",
      "rajkot\n"
     ]
    }
   ],
   "source": [
    "print(\"A 69,\\nalap green city,\\nraiya road,\\nrajkot\")\n",
    "\n",
    "print(\"\\n\")\n",
    "\n",
    "print(\"A 69,\")\n",
    "print(\"alap green city,\")\n",
    "print(\"raiya road,\")\n",
    "print(\"rajkot\")    "
   ]
  },
  {
   "cell_type": "markdown",
   "id": "ef2282a4",
   "metadata": {},
   "source": [
    "Write a program to print addition of two numbers (without input function)."
   ]
  },
  {
   "cell_type": "code",
   "execution_count": 18,
   "id": "d93e3cd8",
   "metadata": {},
   "outputs": [
    {
     "name": "stdout",
     "output_type": "stream",
     "text": [
      "4\n"
     ]
    }
   ],
   "source": [
    "a=2\n",
    "b=2\n",
    "ans=a+b\n",
    "print(ans)\n"
   ]
  },
  {
   "cell_type": "markdown",
   "id": "70f266aa",
   "metadata": {},
   "source": [
    "Write a program to calculate and print average of two numbers (without input function)."
   ]
  },
  {
   "cell_type": "code",
   "execution_count": 21,
   "id": "7861a9e3",
   "metadata": {},
   "outputs": [
    {
     "name": "stdout",
     "output_type": "stream",
     "text": [
      "3.0\n"
     ]
    }
   ],
   "source": [
    "a=5\n",
    "b=1\n",
    "ans=(a+b)/2\n",
    "print(ans)"
   ]
  },
  {
   "cell_type": "markdown",
   "id": "b14e6b8b",
   "metadata": {},
   "source": [
    "Write a program to raise indentation error and correct it."
   ]
  },
  {
   "cell_type": "code",
   "execution_count": null,
   "id": "757f7983",
   "metadata": {},
   "outputs": [
    {
     "ename": "IndentationError",
     "evalue": "expected an indented block after 'if' statement on line 3 (2778309832.py, line 4)",
     "output_type": "error",
     "traceback": [
      "\u001b[1;36m  Cell \u001b[1;32mIn[25], line 4\u001b[1;36m\u001b[0m\n\u001b[1;33m    print(a)\u001b[0m\n\u001b[1;37m    ^\u001b[0m\n\u001b[1;31mIndentationError\u001b[0m\u001b[1;31m:\u001b[0m expected an indented block after 'if' statement on line 3\n"
     ]
    }
   ],
   "source": [
    "a=4\n",
    "b=4\n",
    "if(a==b):\n",
    "    print(a)"
   ]
  },
  {
   "cell_type": "markdown",
   "id": "984c8ec5",
   "metadata": {},
   "source": [
    "Write a program that prints \"Hello-World\" using seprator"
   ]
  },
  {
   "cell_type": "code",
   "execution_count": 27,
   "id": "0d883dc3",
   "metadata": {},
   "outputs": [
    {
     "name": "stdout",
     "output_type": "stream",
     "text": [
      "hello-world\n"
     ]
    }
   ],
   "source": [
    "a=\"hello\"\n",
    "b=\"world\"\n",
    "print(a,b,sep=\"-\")"
   ]
  },
  {
   "cell_type": "markdown",
   "id": "643e46b5",
   "metadata": {},
   "source": [
    "Write a program that prints \"Hello-DU Hello DU \" using seperator and using end"
   ]
  },
  {
   "cell_type": "code",
   "execution_count": 29,
   "id": "8eff25be",
   "metadata": {},
   "outputs": [
    {
     "name": "stdout",
     "output_type": "stream",
     "text": [
      "hello-Du\n",
      "hello Du\n"
     ]
    }
   ],
   "source": [
    "a=\"hello\"\n",
    "b=\"Du\"\n",
    "print(a,b,sep=\"-\")\n",
    "print(a,end=\" \")\n",
    "print(b)"
   ]
  },
  {
   "cell_type": "markdown",
   "id": "c5192296",
   "metadata": {},
   "source": [
    "wap to calculate simple interest."
   ]
  },
  {
   "cell_type": "code",
   "execution_count": 4,
   "id": "62ec8c93",
   "metadata": {},
   "outputs": [
    {
     "name": "stdout",
     "output_type": "stream",
     "text": [
      "0.16\n"
     ]
    }
   ],
   "source": [
    "p=int(input(\"enter p\"))\n",
    "r=int(input(\"enter r\"))\n",
    "n=int(input(\"enter n\"))\n",
    "\n",
    "\n",
    "print((p*r*n)/100)"
   ]
  }
 ],
 "metadata": {
  "kernelspec": {
   "display_name": "Python 3 (ipykernel)",
   "language": "python",
   "name": "python3"
  },
  "language_info": {
   "codemirror_mode": {
    "name": "ipython",
    "version": 3
   },
   "file_extension": ".py",
   "mimetype": "text/x-python",
   "name": "python",
   "nbconvert_exporter": "python",
   "pygments_lexer": "ipython3",
   "version": "3.12.0"
  }
 },
 "nbformat": 4,
 "nbformat_minor": 5
}
